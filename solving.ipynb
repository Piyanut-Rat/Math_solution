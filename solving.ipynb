{
  "nbformat": 4,
  "nbformat_minor": 0,
  "metadata": {
    "colab": {
      "name": "solving.ipynb",
      "provenance": [],
      "authorship_tag": "ABX9TyOCRv9Ujs5mHG22GXodan+9",
      "include_colab_link": true
    },
    "kernelspec": {
      "name": "python3",
      "display_name": "Python 3"
    },
    "language_info": {
      "name": "python"
    }
  },
  "cells": [
    {
      "cell_type": "markdown",
      "metadata": {
        "id": "view-in-github",
        "colab_type": "text"
      },
      "source": [
        "<a href=\"https://colab.research.google.com/github/Piyanut-Rat/Math_solution/blob/main/solving.ipynb\" target=\"_parent\"><img src=\"https://colab.research.google.com/assets/colab-badge.svg\" alt=\"Open In Colab\"/></a>"
      ]
    },
    {
      "cell_type": "code",
      "metadata": {
        "id": "4bcElFlB6Pn9"
      },
      "source": [
        "import numpy as np\n",
        "import math\n",
        "from scipy.integrate import odeint\n",
        "import matplotlib.pyplot as plt"
      ],
      "execution_count": null,
      "outputs": []
    },
    {
      "cell_type": "markdown",
      "metadata": {
        "id": "q3aEChVh2Qzb"
      },
      "source": [
        "Lotka-Volterra model: du/dt = au - buv ; dv/dt = -cv + dbuv"
      ]
    },
    {
      "cell_type": "code",
      "metadata": {
        "colab": {
          "base_uri": "https://localhost:8080/"
        },
        "id": "XX0iDxkV7J3U",
        "outputId": "c8ea02a4-ff18-4b73-a318-56ce455d5832"
      },
      "source": [
        "import numpy as np\n",
        "from scipy.integrate import odeint\n",
        "\n",
        "# recepter: x\n",
        "# rate of x: a\n",
        "\n",
        "# ligan: y\n",
        "# rate of y: b; b=0 # condition -> control \n",
        "\n",
        "\n",
        "\n",
        "y0_VpS6K1 = 0.00124327830478657 #\n",
        "y0_VS6 = 145.50079875804 #\n",
        "    \n",
        "y0_VpS6 = 0.0171533722671392 #\n",
        "y0_VpERK = 0.334274838149849 #\n",
        "\n",
        "x_CpS6_dephosphorylation = 1.19*10**(-1) #\n",
        "x_CS6_phosphorylation_pERK = 1.00*10**(-5) #\n",
        "x_CS6_phosphorylation_pS6K1 = 8.57*10**(-3) #\n",
        "\n",
        "v111 = y0_VS6* x_CS6_phosphorylation_pS6K1* y0_VpS6K1\n",
        "\n",
        "v112 = y0_VS6* x_CS6_phosphorylation_pERK* y0_VpERK\n",
        "\n",
        "v113 = y0_VpS6* x_CpS6_dephosphorylation\n",
        "\n",
        "x_Cscale_pS6_CelllineH322M = 2.65*10**(1)\n",
        "x_Coffset_pS6_CelllineH322M = 1.00*10**(-7) \n",
        "\n",
        "dydt_VpS6 = v111 + v112 - v113 \n",
        "pS6_au = np.log10(np.abs(x_Coffset_pS6_CelllineH322M + x_Cscale_pS6_CelllineH322M*dydt_VpS6))\n",
        "print(dydt_VpS6)\n",
        "print(pS6_au)\n"
      ],
      "execution_count": null,
      "outputs": [
        {
          "output_type": "stream",
          "text": [
            "-4.582996572243068e-06\n",
            "-3.9159623338540697\n"
          ],
          "name": "stdout"
        }
      ]
    },
    {
      "cell_type": "markdown",
      "metadata": {
        "id": "2DLS5oFKzqxc"
      },
      "source": [
        "# Lotka-Volterra equations(predator prey) using Runge-Kutta in Python\n"
      ]
    },
    {
      "cell_type": "code",
      "metadata": {
        "id": "fneBw5-lyZZm"
      },
      "source": [
        "'''\n",
        "cite: https://stackoverflow.com/questions/29761498/lotka-volterra-equationspredator-prey-using-runge-kutta-in-python\n",
        "'''\n",
        "tpoints = np.arange(30)          #array([0, 1, 2, ..., 30])\n",
        "#not np.linspace() and don't forget to set time step size equal to h:\n",
        "h=0.1\n",
        "tpoints = np.arange(0, 30, h)"
      ],
      "execution_count": null,
      "outputs": []
    },
    {
      "cell_type": "code",
      "metadata": {
        "id": "9RJZC-ZgzM41"
      },
      "source": [
        "def f(r,t):\n",
        "    ...\n",
        "    x, y=r[0], r[1]\n",
        "    ..."
      ],
      "execution_count": null,
      "outputs": []
    },
    {
      "cell_type": "code",
      "metadata": {
        "id": "0YscYbKLzUTj"
      },
      "source": [
        "for t in tpoints:\n",
        "    xpoints += [r[0]]\n",
        "    ypoints += [r[1]]\n",
        "    ..."
      ],
      "execution_count": null,
      "outputs": []
    },
    {
      "cell_type": "code",
      "metadata": {
        "id": "Dv0oMsZczXGc"
      },
      "source": [
        "for t in tpoints:\n",
        "    xpoints.append(r[0])\n",
        "    ypoints.append(r[1])\n",
        "    ..."
      ],
      "execution_count": null,
      "outputs": []
    },
    {
      "cell_type": "code",
      "metadata": {
        "id": "SAXuG2puzbfa"
      },
      "source": [
        "import matplotlib.pyplot as plt\n",
        "import numpy as np\n",
        "\n",
        "def rk4(r, t, h):                    #edited; no need for input f\n",
        "        \"\"\" Runge-Kutta 4 method \"\"\"\n",
        "        k1 = h*f(r, t)\n",
        "        k2 = h*f(r+0.5*k1, t+0.5*h)\n",
        "        k3 = h*f(r+0.5*k2, t+0.5*h)\n",
        "        k4 = h*f(r+k3, t+h)\n",
        "        return (k1 + 2*k2 + 2*k3 + k4)/6\n",
        "\n",
        "def f(r, t):\n",
        "        alpha = 1.0\n",
        "        beta = 0.5\n",
        "        gamma = 0.5\n",
        "        sigma = 2.0\n",
        "        x, y = r[0], r[1]\n",
        "        fxd = x*(alpha - beta*y)\n",
        "        fyd = -y*(gamma - sigma*x)\n",
        "        return np.array([fxd, fyd], float)\n",
        "\n",
        "h=0.001                               #edited\n",
        "tpoints = np.arange(0, 30, h)         #edited\n",
        "xpoints, ypoints  = [], []\n",
        "r = np.array([2, 2], float)\n",
        "for t in tpoints:\n",
        "        xpoints.append(r[0])          #edited\n",
        "        ypoints.append(r[1])          #edited\n",
        "        r += rk4(r, t, h)             #edited; no need for input f\n",
        "plt.plot(tpoints, xpoints)\n",
        "plt.plot(tpoints, ypoints)\n",
        "plt.xlabel(\"Time\")\n",
        "plt.ylabel(\"Population\")\n",
        "plt.title(\"Lotka-Volterra Model\")\n",
        "plt.savefig(\"Lotka_Volterra.png\")\n",
        "plt.show()"
      ],
      "execution_count": null,
      "outputs": []
    },
    {
      "cell_type": "code",
      "metadata": {
        "id": "cwFnI6rVzd7t"
      },
      "source": [
        "plt.xlabel(\"Prey\")\n",
        "plt.ylabel(\"Predator\")\n",
        "plt.plot(xpoints, ypoints)\n",
        "plt.show()"
      ],
      "execution_count": null,
      "outputs": []
    }
  ]
}