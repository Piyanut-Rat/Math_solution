{
  "nbformat": 4,
  "nbformat_minor": 0,
  "metadata": {
    "colab": {
      "name": "solving.ipynb",
      "provenance": [],
      "authorship_tag": "ABX9TyPne7+s1z9cBQThUPB1BzwS",
      "include_colab_link": true
    },
    "kernelspec": {
      "name": "python3",
      "display_name": "Python 3"
    },
    "language_info": {
      "name": "python"
    }
  },
  "cells": [
    {
      "cell_type": "markdown",
      "metadata": {
        "id": "view-in-github",
        "colab_type": "text"
      },
      "source": [
        "<a href=\"https://colab.research.google.com/github/Piyanut-Rat/Math_solution/blob/main/solving.ipynb\" target=\"_parent\"><img src=\"https://colab.research.google.com/assets/colab-badge.svg\" alt=\"Open In Colab\"/></a>"
      ]
    },
    {
      "cell_type": "code",
      "metadata": {
        "id": "4bcElFlB6Pn9"
      },
      "source": [
        "import numpy as np\n",
        "import math\n",
        "from scipy.integrate import odeint\n",
        "import matplotlib.pyplot as plt"
      ],
      "execution_count": 1,
      "outputs": []
    },
    {
      "cell_type": "markdown",
      "metadata": {
        "id": "q3aEChVh2Qzb"
      },
      "source": [
        "Lotka-Volterra model: du/dt = au - buv ; dv/dt = -cv + dbuv"
      ]
    },
    {
      "cell_type": "code",
      "metadata": {
        "colab": {
          "base_uri": "https://localhost:8080/"
        },
        "id": "XX0iDxkV7J3U",
        "outputId": "c8ea02a4-ff18-4b73-a318-56ce455d5832"
      },
      "source": [
        "import numpy as np\n",
        "from scipy.integrate import odeint\n",
        "\n",
        "# recepter: x\n",
        "# rate of x: a\n",
        "\n",
        "# ligan: y\n",
        "# rate of y: b; b=0 # condition -> control \n",
        "\n",
        "\n",
        "\n",
        "y0_VpS6K1 = 0.00124327830478657 #\n",
        "y0_VS6 = 145.50079875804 #\n",
        "    \n",
        "y0_VpS6 = 0.0171533722671392 #\n",
        "y0_VpERK = 0.334274838149849 #\n",
        "\n",
        "x_CpS6_dephosphorylation = 1.19*10**(-1) #\n",
        "x_CS6_phosphorylation_pERK = 1.00*10**(-5) #\n",
        "x_CS6_phosphorylation_pS6K1 = 8.57*10**(-3) #\n",
        "\n",
        "v111 = y0_VS6* x_CS6_phosphorylation_pS6K1* y0_VpS6K1\n",
        "\n",
        "v112 = y0_VS6* x_CS6_phosphorylation_pERK* y0_VpERK\n",
        "\n",
        "v113 = y0_VpS6* x_CpS6_dephosphorylation\n",
        "\n",
        "x_Cscale_pS6_CelllineH322M = 2.65*10**(1)\n",
        "x_Coffset_pS6_CelllineH322M = 1.00*10**(-7) \n",
        "\n",
        "dydt_VpS6 = v111 + v112 - v113 \n",
        "pS6_au = np.log10(np.abs(x_Coffset_pS6_CelllineH322M + x_Cscale_pS6_CelllineH322M*dydt_VpS6))\n",
        "print(dydt_VpS6)\n",
        "print(pS6_au)\n"
      ],
      "execution_count": 13,
      "outputs": [
        {
          "output_type": "stream",
          "text": [
            "-4.582996572243068e-06\n",
            "-3.9159623338540697\n"
          ],
          "name": "stdout"
        }
      ]
    }
  ]
}