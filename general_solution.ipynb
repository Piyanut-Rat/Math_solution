{
  "nbformat": 4,
  "nbformat_minor": 0,
  "metadata": {
    "colab": {
      "name": "general solution.ipynb",
      "provenance": [],
      "authorship_tag": "ABX9TyMnujGtWC/LJ50DobXh8tVg",
      "include_colab_link": true
    },
    "kernelspec": {
      "name": "python3",
      "display_name": "Python 3"
    },
    "language_info": {
      "name": "python"
    }
  },
  "cells": [
    {
      "cell_type": "markdown",
      "metadata": {
        "id": "view-in-github",
        "colab_type": "text"
      },
      "source": [
        "<a href=\"https://colab.research.google.com/github/Piyanut-Rat/Math_solution/blob/main/general_solution.ipynb\" target=\"_parent\"><img src=\"https://colab.research.google.com/assets/colab-badge.svg\" alt=\"Open In Colab\"/></a>"
      ]
    },
    {
      "cell_type": "markdown",
      "metadata": {
        "id": "dxSkmyBq27Hl"
      },
      "source": [
        "Logistic equation:\n",
        "  dN/dt = r*N(1-(N/K))\n"
      ]
    },
    {
      "cell_type": "code",
      "metadata": {
        "colab": {
          "base_uri": "https://localhost:8080/",
          "height": 97
        },
        "id": "x4cVs77Z6zjC",
        "outputId": "3cbaec0e-eadd-4bc2-d42f-8393e703a4b0"
      },
      "source": [
        "from sympy.interactive import printing\n",
        "printing.init_printing(use_latex=True)\n",
        "from sympy import*\n",
        "import sympy as sp\n",
        "\n",
        "t = sp.symbols('t')\n",
        "N = sp.Function('N')(t)\n",
        "\n",
        "r = sp.symbols('r')\n",
        "K = sp.symbols('K')\n",
        "b = sp.symbols('b')\n",
        "\n",
        "diffeqLogis = Eq(N.diff(t)-r*N*(1-(N/K)),0)\n",
        "display(diffeqLogis)\n",
        "dsolve(diffeqLogis,N)"
      ],
      "execution_count": 2,
      "outputs": [
        {
          "output_type": "display_data",
          "data": {
            "image/png": "[encoded data removed]",
            "text/latex": "$\\displaystyle - r \\left(1 - \\frac{N{\\left(t \\right)}}{K}\\right) N{\\left(t \\right)} + \\frac{d}{d t} N{\\left(t \\right)} = 0$",
            "text/plain": [
              "    ⎛    N(t)⎞        d           \n",
              "- r⋅⎜1 - ────⎟⋅N(t) + ──(N(t)) = 0\n",
              "    ⎝     K  ⎠        dt          "
            ]
          },
          "metadata": {
            "tags": []
          }
        },
        {
          "output_type": "execute_result",
          "data": {
            "image/png": "[encoded data removed]",
            "text/latex": "$\\displaystyle N{\\left(t \\right)} = \\frac{K e^{C_{1} K + r t}}{e^{C_{1} K + r t} - 1}$",
            "text/plain": [
              "           C₁⋅K + r⋅t \n",
              "        K⋅ℯ           \n",
              "N(t) = ───────────────\n",
              "        C₁⋅K + r⋅t    \n",
              "       ℯ           - 1"
            ]
          },
          "metadata": {
            "tags": []
          },
          "execution_count": 2
        }
      ]
    },
    {
      "cell_type": "code",
      "metadata": {
        "colab": {
          "base_uri": "https://localhost:8080/",
          "height": 97
        },
        "id": "fsL_HBdIf_fK",
        "outputId": "3d525528-be02-460a-c3da-221779d3fe3e"
      },
      "source": [
        "\n",
        "diffeqLogis = Eq(N.diff(t)-r*N*(1-(N/K)),0)\n",
        "display(diffeqLogis)\n",
        "dsolve(diffeqLogis,N)\n"
      ],
      "execution_count": 3,
      "outputs": [
        {
          "output_type": "display_data",
          "data": {
            "image/png": "[encoded data removed]",
            "text/latex": "$\\displaystyle - r \\left(1 - \\frac{N{\\left(t \\right)}}{K}\\right) N{\\left(t \\right)} + \\frac{d}{d t} N{\\left(t \\right)} = 0$",
            "text/plain": [
              "    ⎛    N(t)⎞        d           \n",
              "- r⋅⎜1 - ────⎟⋅N(t) + ──(N(t)) = 0\n",
              "    ⎝     K  ⎠        dt          "
            ]
          },
          "metadata": {
            "tags": []
          }
        },
        {
          "output_type": "execute_result",
          "data": {
            "image/png": "[encoded data removed]",
            "text/latex": "$\\displaystyle N{\\left(t \\right)} = \\frac{K e^{C_{1} K + r t}}{e^{C_{1} K + r t} - 1}$",
            "text/plain": [
              "           C₁⋅K + r⋅t \n",
              "        K⋅ℯ           \n",
              "N(t) = ───────────────\n",
              "        C₁⋅K + r⋅t    \n",
              "       ℯ           - 1"
            ]
          },
          "metadata": {
            "tags": []
          },
          "execution_count": 3
        }
      ]
    },
    {
      "cell_type": "markdown",
      "metadata": {
        "id": "8bsM80TWcNIr"
      },
      "source": [
        "Gompertz equation:\n",
        "  dN/dt = -r*b*Nln(N/K)\n"
      ]
    },
    {
      "cell_type": "code",
      "metadata": {
        "colab": {
          "base_uri": "https://localhost:8080/",
          "height": 81
        },
        "id": "tusKBKo1cMPI",
        "outputId": "5d419c1a-7b9c-4fe3-c0ee-fb78f2c21f52"
      },
      "source": [
        "diffeqGomp = Eq(N.diff(t)+r*b*N*ln(N/K),0)\n",
        "display(diffeqGomp)\n",
        "dsolve(diffeqGomp,N)"
      ],
      "execution_count": 4,
      "outputs": [
        {
          "output_type": "display_data",
          "data": {
            "image/png": "[encoded data removed]",
            "text/latex": "$\\displaystyle b r N{\\left(t \\right)} \\log{\\left(\\frac{N{\\left(t \\right)}}{K} \\right)} + \\frac{d}{d t} N{\\left(t \\right)} = 0$",
            "text/plain": [
              "            ⎛N(t)⎞   d           \n",
              "b⋅r⋅N(t)⋅log⎜────⎟ + ──(N(t)) = 0\n",
              "            ⎝ K  ⎠   dt          "
            ]
          },
          "metadata": {
            "tags": []
          }
        },
        {
          "output_type": "execute_result",
          "data": {
            "image/png": "[encoded data removed]",
            "text/latex": "$\\displaystyle N{\\left(t \\right)} = K e^{C_{1} e^{- b r t}}$",
            "text/plain": [
              "              -b⋅r⋅t\n",
              "          C₁⋅ℯ      \n",
              "N(t) = K⋅ℯ          "
            ]
          },
          "metadata": {
            "tags": []
          },
          "execution_count": 4
        }
      ]
    }
  ]
}